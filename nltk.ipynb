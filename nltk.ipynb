{
 "cells": [
  {
   "cell_type": "code",
   "execution_count": null,
   "id": "bbeb82e2",
   "metadata": {},
   "outputs": [],
   "source": [
    "import pprint \n",
    "import pandas as pd\n",
    "from selenium import webdriver\n",
    "from selenium.webdriver.common.by import By\n",
    "from selenium.webdriver.common.keys import Keys \n",
    "from selenium.webdriver.support import expected_conditions as EC\n",
    "from nltk.tokenize import word_tokenize\n",
    "from nltk.tokenize import sent_tokenize\n",
    "import re\n",
    "import string\n",
    "import time\n",
    "import pickle as pk \n",
    "\n",
    "ACT_website = \"http://www5.austlii.edu.au/au/legis/vic/consol_act/fvpa2008283/\"\n",
    "NSW_website = 'http://www5.austlii.edu.au/au/legis/nsw/consol_act/capva2007347/'\n",
    "NT_website = 'http://classic.austlii.edu.au/au/legis/nt/consol_act/dafva2007254/'\n",
    "QLD_website = 'http://classic.austlii.edu.au/au/legis/qld/consol_act/dafvpa2012379/'\n",
    "VIC_website = 'http://www5.austlii.edu.au/au/legis/vic/consol_act/fvpa2008283/'"
   ]
  },
  {
   "cell_type": "markdown",
   "id": "e2738f4e",
   "metadata": {},
   "source": [
    "# scrape the data from website and save as text files "
   ]
  },
  {
   "cell_type": "code",
   "execution_count": null,
   "id": "910b589e",
   "metadata": {},
   "outputs": [],
   "source": [
    "driver = webdriver.Chrome()\n",
    "driver.get(ACT_website)\n",
    "time.sleep(1)\n",
    "legis = driver.find_elements(By.XPATH,\"/html/body/pre/a[@href]\")"
   ]
  },
  {
   "cell_type": "code",
   "execution_count": null,
   "id": "fe51507a",
   "metadata": {},
   "outputs": [],
   "source": [
    "for legi in legis:\n",
    "    prop = legi.get_attribute(\"href\") \n",
    "    if prop.endswith(\".html\"):\n",
    "        driver.get(prop)\n",
    "        content = driver.find_element(By.XPATH,\"//body\").text\n",
    "        print (90 * \"_\")\n",
    "        print(content)\n",
    "        print(90 * \"=\")\n",
    "        new_content = re.sub(r\"[^a-zA-Z \\r\\n]\", \"\",content)\n",
    "        print (new_content)\n",
    "        print(90 * \"=\")\n",
    "        with open(\"test.log\", \"a\", encoding=\"utf8\") as f: f.write(new_content)\n",
    "        driver.back()"
   ]
  },
  {
   "cell_type": "markdown",
   "id": "92991dfe",
   "metadata": {},
   "source": [
    "# task 1.count words of each legislation "
   ]
  },
  {
   "cell_type": "code",
   "execution_count": null,
   "id": "b9070063",
   "metadata": {},
   "outputs": [],
   "source": [
    "with open (\"/Users/lucasliu/Desktop/act.txt\",\"r\") as doc_ACT:\n",
    "    data_ACT = doc_ACT.read()\n",
    "    \n",
    "#count words of ACT legislation \n",
    "ACT_count = word_tokenize(data_ACT)\n",
    " \n",
    "word_tokenize(data_ACT)\n",
    "len(ACT_count)    "
   ]
  },
  {
   "cell_type": "code",
   "execution_count": null,
   "id": "e33e8fb2",
   "metadata": {},
   "outputs": [],
   "source": [
    "with open (\"/Users/lucasliu/Desktop/nsw.txt\",\"r\") as doc_NSW:\n",
    "    data_NSW = doc_NSW.read()\n",
    "    \n",
    "#count words of NSW legislation \n",
    "NSW_count = word_tokenize(data_NSW)\n",
    " \n",
    "word_tokenize(data_NSW)\n",
    "len(NSW_count)  "
   ]
  },
  {
   "cell_type": "code",
   "execution_count": null,
   "id": "c9e3c5b7",
   "metadata": {},
   "outputs": [],
   "source": [
    "with open (\"/Users/lucasliu/Desktop/nt.txt\",\"r\") as doc_NT:\n",
    "    data_NT = doc_NT.read()\n",
    "    \n",
    "#count words of NT legislation \n",
    "NT_count = word_tokenize(data_NT)\n",
    " \n",
    "word_tokenize(data_NT)\n",
    "len(NT_count)  "
   ]
  },
  {
   "cell_type": "code",
   "execution_count": null,
   "id": "2db74d27",
   "metadata": {},
   "outputs": [],
   "source": [
    "with open (\"/Users/lucasliu/Desktop/qld.txt\",\"r\") as doc_QLD:\n",
    "    data_QLD = doc_QLD.read()\n",
    "    \n",
    "#count words of QLD legislation \n",
    "QLD_count = word_tokenize(data_QLD)\n",
    " \n",
    "word_tokenize(data_QLD)\n",
    "len(QLD_count) "
   ]
  },
  {
   "cell_type": "code",
   "execution_count": null,
   "id": "0c3fcd04",
   "metadata": {},
   "outputs": [],
   "source": [
    "with open (\"/Users/lucasliu/Desktop/vic.txt\",\"r\") as doc_VIC:\n",
    "    data_VIC = doc_VIC.read()\n",
    "    \n",
    "#count words of VIC legislation \n",
    "VIC_count = word_tokenize(data_VIC)\n",
    " \n",
    "word_tokenize(data_VIC)\n",
    "len(VIC_count) "
   ]
  },
  {
   "cell_type": "markdown",
   "id": "cb824dda",
   "metadata": {},
   "source": [
    "# task 2. count words in each part, division ,subdivision"
   ]
  },
  {
   "cell_type": "code",
   "execution_count": null,
   "id": "e7339a9b",
   "metadata": {},
   "outputs": [],
   "source": [
    "#Open ACT legislation\n",
    "driver = webdriver.Chrome()\n",
    "driver.get(ACT_website)\n",
    "ACT_legis = driver.find_elements(By.XPATH, '/html/body/pre')\n",
    "\n",
    "for i in ACT_legis:\n",
    "    ACT_lit = i.text\n",
    "driver.close()\n",
    "ACT_legis\n",
    "ACT_punct_clean = \"\".join([i for i in ACT_lit if i not in string.punctuation])\n",
    "\n",
    "ACT_number_clean = ''.join([i for i in ACT_punct_clean if not i.isdigit()])"
   ]
  },
  {
   "cell_type": "code",
   "execution_count": null,
   "id": "7bee9026",
   "metadata": {},
   "outputs": [],
   "source": [
    "#ACT word count per part\n",
    "num_PART = ACT_number_clean. split(\"PART\")[1:]\n",
    "length = len(num_PART)\n",
    "print('Words count in each Part: ')\n",
    "for i in range(length):\n",
    "   \n",
    "    No_PART = num_PART[i]\n",
    "    No_PART_count = word_tokenize(No_PART)\n",
    "    print(len(No_PART_count))"
   ]
  },
  {
   "cell_type": "code",
   "execution_count": null,
   "id": "5b7c8f00",
   "metadata": {},
   "outputs": [],
   "source": [
    "#ACT word count per division\n",
    "num_Division = ACT_number_clean. split(\"Division\")[1:]\n",
    "length = len(num_Division)    \n",
    "print('Words count in each Division: ')\n",
    "for i in range(length):\n",
    "   \n",
    "    No_Division = num_Division[i]\n",
    "    No_Division_count = word_tokenize(No_Division)\n",
    "    print(len(No_Division_count))"
   ]
  },
  {
   "cell_type": "code",
   "execution_count": null,
   "id": "af69d808",
   "metadata": {},
   "outputs": [],
   "source": [
    "#ACT word count per subdivision\n",
    "num_Subdivision = ACT_number_clean. split(\"Subdivision\")[1:]\n",
    "length = len(num_Subdivision)    \n",
    "print('Words count in each Subdivision: ')\n",
    "for i in range(length):\n",
    "   \n",
    "    No_Subdivision = num_Subdivision[i]\n",
    "    No_Subdivision_count = word_tokenize(No_Subdivision)\n",
    "    print(len(No_Subdivision_count))  "
   ]
  },
  {
   "cell_type": "code",
   "execution_count": null,
   "id": "7d611275",
   "metadata": {},
   "outputs": [],
   "source": [
    "# Open NSW legislation\n",
    "driver = webdriver.Chrome()\n",
    "driver.get(NSW_website)\n",
    "NSW_legis = driver.find_elements(By.XPATH, '/html/body/pre')\n",
    "for i in NSW_legis:\n",
    "    NSW_lit = i.text\n",
    "driver.close() "
   ]
  },
  {
   "cell_type": "code",
   "execution_count": null,
   "id": "a984307f",
   "metadata": {},
   "outputs": [],
   "source": []
  },
  {
   "cell_type": "code",
   "execution_count": null,
   "id": "fe0d8190",
   "metadata": {},
   "outputs": [],
   "source": []
  },
  {
   "cell_type": "code",
   "execution_count": null,
   "id": "90c82d76",
   "metadata": {},
   "outputs": [],
   "source": []
  },
  {
   "cell_type": "code",
   "execution_count": null,
   "id": "7f369748",
   "metadata": {
    "scrolled": true
   },
   "outputs": [],
   "source": []
  },
  {
   "cell_type": "markdown",
   "id": "fea1b4ab",
   "metadata": {},
   "source": [
    "# task 3. count parts, division. subdivision"
   ]
  },
  {
   "cell_type": "code",
   "execution_count": null,
   "id": "018a9040",
   "metadata": {},
   "outputs": [],
   "source": [
    "# count part /division /subdivision\n",
    "num_chapters_part = number_clean. split(\"PART\")[1:]\n",
    "len(num_chapters_part)"
   ]
  },
  {
   "cell_type": "code",
   "execution_count": null,
   "id": "929c52df",
   "metadata": {},
   "outputs": [],
   "source": [
    "num_chapters_div = number_clean. split(\"Division \")[1:]\n",
    "len(num_chapters_div)"
   ]
  },
  {
   "cell_type": "code",
   "execution_count": null,
   "id": "891af59f",
   "metadata": {},
   "outputs": [],
   "source": [
    "num_chapters_subd= number_clean. split(\"Subdivision\")[1:]\n",
    "len(num_chapters_subd)"
   ]
  },
  {
   "cell_type": "code",
   "execution_count": null,
   "id": "ee957aff",
   "metadata": {},
   "outputs": [],
   "source": [
    "chapters = number_clean. split(\"PART\")[1:]\n",
    "\n",
    "chapter = chapters[0]\n",
    "num_words = word_tokenize(chapter)\n",
    "word_tokenize(chapter) "
   ]
  },
  {
   "cell_type": "code",
   "execution_count": null,
   "id": "6021e62d",
   "metadata": {},
   "outputs": [],
   "source": [
    "len(num_words)"
   ]
  },
  {
   "cell_type": "code",
   "execution_count": null,
   "id": "7809f245",
   "metadata": {},
   "outputs": [],
   "source": []
  },
  {
   "cell_type": "code",
   "execution_count": null,
   "id": "f5926a82",
   "metadata": {},
   "outputs": [],
   "source": [
    "for year in punct_clean.split():\n",
    "    if punct_clean.isdigit():\n",
    "        num_year = int(word)"
   ]
  },
  {
   "cell_type": "code",
   "execution_count": null,
   "id": "86049be7",
   "metadata": {
    "scrolled": true
   },
   "outputs": [],
   "source": [
    "#para = sent_tokenize(lit)\n",
    "#sent_tokenize(lit)\n"
   ]
  },
  {
   "cell_type": "code",
   "execution_count": null,
   "id": "285a767f",
   "metadata": {},
   "outputs": [],
   "source": [
    "''''''def build_sentence_tree(tagged_sentence):\n",
    "    \"\"\"Builds the sentence tree based on the IOB tags for person and date\"\"\"\n",
    "    phrase=[]\n",
    "    label = \"\"\n",
    "    token_list = []\n",
    "    for token in tagged_sentence:\n",
    "        iob = token[2]\n",
    "        word = token[:-1]\n",
    "        if(iob=='O'):\n",
    "            if(phrase!=[]):\n",
    "                token_list.append(nltk.Tree(label,phrase))\n",
    "                label=\"\"\n",
    "                phrase=[]\n",
    "                token_list.append(word)\n",
    "            else:\n",
    "                token_list.append(word)\n",
    "        else:\n",
    "            if(iob[2:] in [\"PERSON\",\"DATE\"]):\n",
    "                if(label==iob[2:] or label==\"\"):\n",
    "                    label = iob[2:]\n",
    "                    phrase.append(word)\n",
    "                else:\n",
    "                    token_list.append(nltk.Tree(label, phrase))\n",
    "                    label = \"\"\n",
    "                    phrase = []\n",
    "                    phrase.append(word)\n",
    "\n",
    "    if (phrase != []):\n",
    "        token_list.append(nltk.Tree(label, phrase))\n",
    "\n",
    "    return token_list\n",
    "\n",
    "def getLeaves(tree):\n",
    "    entity=[]\n",
    "    for leave in tree.leaves():\n",
    "        entity.append(leave)\n",
    "    return entity"
   ]
  },
  {
   "cell_type": "code",
   "execution_count": null,
   "id": "3bc7186c",
   "metadata": {},
   "outputs": [],
   "source": []
  },
  {
   "cell_type": "code",
   "execution_count": null,
   "id": "d96c650d",
   "metadata": {},
   "outputs": [],
   "source": []
  },
  {
   "cell_type": "code",
   "execution_count": null,
   "id": "6c257f8f",
   "metadata": {},
   "outputs": [],
   "source": []
  },
  {
   "cell_type": "code",
   "execution_count": null,
   "id": "d047f547",
   "metadata": {},
   "outputs": [],
   "source": []
  },
  {
   "cell_type": "code",
   "execution_count": null,
   "id": "48436899",
   "metadata": {},
   "outputs": [],
   "source": []
  },
  {
   "cell_type": "code",
   "execution_count": null,
   "id": "f68b56a5",
   "metadata": {},
   "outputs": [],
   "source": []
  }
 ],
 "metadata": {
  "kernelspec": {
   "display_name": "Python 3 (ipykernel)",
   "language": "python",
   "name": "python3"
  },
  "language_info": {
   "codemirror_mode": {
    "name": "ipython",
    "version": 3
   },
   "file_extension": ".py",
   "mimetype": "text/x-python",
   "name": "python",
   "nbconvert_exporter": "python",
   "pygments_lexer": "ipython3",
   "version": "3.7.11"
  }
 },
 "nbformat": 4,
 "nbformat_minor": 5
}
