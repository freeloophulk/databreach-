{
 "cells": [
  {
   "cell_type": "code",
   "execution_count": 1,
   "metadata": {},
   "outputs": [],
   "source": [
    "#Ellipsoids"
   ]
  },
  {
   "cell_type": "code",
   "execution_count": null,
   "metadata": {},
   "outputs": [],
   "source": []
  },
  {
   "attachments": {},
   "cell_type": "markdown",
   "metadata": {},
   "source": [
    "mport math\n",
    "import numpy as np\n",
    "def haversine(origin, destination,units='km',ellipsoid=\"WGS84\"):\n",
    " \"\"\"\n",
    " To calculate distance between two points in Earth giving their coordinates (lat,lon)\n",
    " Parameters\n",
    " ----------\n",
    " origin:array like (lat,lon)\n",
    " coordinates of origin point\n",
    "\n",
    " destination: array like (lat,lon)\n",
    " coordinates of destinations points\n",
    "\n",
    " units: str\n",
    " units to return distance\n",
    " aviable units are kilometers (km), meters (m) and miles (mi)\n",
    " \n",
    " ellipsoid: String: type of projection\n",
    " aviables: Airy (1830), Bessel,Clarke (1880),FAI sphere,GRS-67,International,Krasovsky,NAD27,WGS66,WGS72,IERS (2003),WGS84- default WGS84\n",
    " return\n",
    " distance between points\n",
    " \"\"\"\n",
    " if units==\"km\" or units==\"kilometers\":\n",
    "  factor=1\n",
    " elif units==\"m\" or  units==\"meters\":\n",
    "  factor=1000\n",
    " elif units==\"miles\" or units==\"mi\":\n",
    "  factor=0.621371\n",
    " else:\n",
    "  raise ValueError('aviable units are kilometers (km), meters (m) and miles (mi)')\n",
    " lat0, lon0 = origin\n",
    " \n",
    " ellipsoids = {\n",
    "        \"Airy (1830)\": (6377.563, 6356.257), # Ordnance Survey default\n",
    "        \"Bessel\": (6377.397, 6356.079),\n",
    "        \"Clarke (1880)\": (6378.249145, 6356.51486955),\n",
    "        \"FAI sphere\": (6371, 6371), # Idealised\n",
    "        \"GRS-67\": (6378.160, 6356.775),\n",
    "        \"International\": (6378.388, 6356.912),\n",
    "        \"Krasovsky\": (6378.245, 6356.863),\n",
    "        \"NAD27\": (6378.206, 6356.584),\n",
    "        \"WGS66\": (6378.145, 6356.758),\n",
    "        \"WGS72\": (6378.135, 6356.751),\n",
    "        \"WGS84\": (6378.1370, 6356.7523), # GPS default\n",
    "        \"IERS (2003)\": (6378.1366, 6356.7519),\n",
    "    }\n",
    " \n",
    " r1, r2 = ellipsoids[ellipsoid]\n",
    " lat, lon = destination\n",
    " mean_latitude = (lat0 + lat)/2\n",
    " A = (r1*r1 * math.cos(mean_latitude))**2\n",
    " B = (r2*r2 * math.sin(mean_latitude))**2\n",
    " C = (r1 * math.cos(mean_latitude))**2\n",
    " D = (r2 * math.sin(mean_latitude))**2\n",
    " radius  = np.sqrt(( A + B )/( C + D)) #radius of the earth in km\n",
    " \n",
    " dlat = math.radians(lat-lat0)\n",
    " dlon = math.radians(lon-lon0)\n",
    " a = math.sin(dlat/2) * math.sin(dlat/2) + math.cos(math.radians(lat0)) \\\n",
    " * math.cos(math.radians(lat)) * math.sin(dlon/2) * math.sin(dlon/2)\n",
    " c = 2 * math.atan2(math.sqrt(a), math.sqrt(1-a))\n",
    " distance=radius * c*factor\n",
    "\n",
    " return distance"
   ]
  }
 ],
 "metadata": {
  "kernelspec": {
   "display_name": "ml",
   "language": "python",
   "name": "python3"
  },
  "language_info": {
   "codemirror_mode": {
    "name": "ipython",
    "version": 3
   },
   "file_extension": ".py",
   "mimetype": "text/x-python",
   "name": "python",
   "nbconvert_exporter": "python",
   "pygments_lexer": "ipython3",
   "version": "3.10.6"
  },
  "orig_nbformat": 4
 },
 "nbformat": 4,
 "nbformat_minor": 2
}
